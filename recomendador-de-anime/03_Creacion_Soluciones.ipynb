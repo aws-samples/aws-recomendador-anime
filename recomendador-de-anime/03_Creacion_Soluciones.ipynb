{
 "cells": [
  {
   "cell_type": "code",
   "execution_count": null,
   "metadata": {},
   "outputs": [],
   "source": [
    "%store -r\n",
    "%store"
   ]
  },
  {
   "cell_type": "markdown",
   "metadata": {},
   "source": [
    "## Create solutions"
   ]
  },
  {
   "cell_type": "code",
   "execution_count": 14,
   "metadata": {},
   "outputs": [],
   "source": [
    "import time\n",
    "from time import sleep\n",
    "import json\n",
    "import pandas as pd\n",
    "pd.set_option('display.max_columns', 500)     # Make sure we can see all of the columns\n",
    "pd.set_option('display.max_rows', 20)         # Keep the output on one page\n",
    "pd.set_option('display.max_colwidth', 200)  \n",
    "import boto3"
   ]
  },
  {
   "cell_type": "code",
   "execution_count": 15,
   "metadata": {},
   "outputs": [],
   "source": [
    "# Configure the SDK to Personalize:\n",
    "personalize = boto3.client('personalize')\n",
    "personalize_runtime = boto3.client('personalize-runtime')"
   ]
  },
  {
   "cell_type": "code",
   "execution_count": 16,
   "metadata": {},
   "outputs": [],
   "source": [
    "recipes = personalize.list_recipes()['recipes']"
   ]
  },
  {
   "cell_type": "code",
   "execution_count": 17,
   "metadata": {},
   "outputs": [
    {
     "data": {
      "text/html": [
       "<div>\n",
       "<style scoped>\n",
       "    .dataframe tbody tr th:only-of-type {\n",
       "        vertical-align: middle;\n",
       "    }\n",
       "\n",
       "    .dataframe tbody tr th {\n",
       "        vertical-align: top;\n",
       "    }\n",
       "\n",
       "    .dataframe thead th {\n",
       "        text-align: right;\n",
       "    }\n",
       "</style>\n",
       "<table border=\"1\" class=\"dataframe\">\n",
       "  <thead>\n",
       "    <tr style=\"text-align: right;\">\n",
       "      <th></th>\n",
       "      <th>name</th>\n",
       "      <th>recipeArn</th>\n",
       "    </tr>\n",
       "  </thead>\n",
       "  <tbody>\n",
       "    <tr>\n",
       "      <th>0</th>\n",
       "      <td>aws-hrnn</td>\n",
       "      <td>arn:aws:personalize:::recipe/aws-hrnn</td>\n",
       "    </tr>\n",
       "    <tr>\n",
       "      <th>1</th>\n",
       "      <td>aws-hrnn-coldstart</td>\n",
       "      <td>arn:aws:personalize:::recipe/aws-hrnn-coldstart</td>\n",
       "    </tr>\n",
       "    <tr>\n",
       "      <th>2</th>\n",
       "      <td>aws-hrnn-metadata</td>\n",
       "      <td>arn:aws:personalize:::recipe/aws-hrnn-metadata</td>\n",
       "    </tr>\n",
       "    <tr>\n",
       "      <th>3</th>\n",
       "      <td>aws-personalized-ranking</td>\n",
       "      <td>arn:aws:personalize:::recipe/aws-personalized-ranking</td>\n",
       "    </tr>\n",
       "    <tr>\n",
       "      <th>4</th>\n",
       "      <td>aws-popularity-count</td>\n",
       "      <td>arn:aws:personalize:::recipe/aws-popularity-count</td>\n",
       "    </tr>\n",
       "    <tr>\n",
       "      <th>5</th>\n",
       "      <td>aws-sims</td>\n",
       "      <td>arn:aws:personalize:::recipe/aws-sims</td>\n",
       "    </tr>\n",
       "    <tr>\n",
       "      <th>6</th>\n",
       "      <td>aws-user-personalization</td>\n",
       "      <td>arn:aws:personalize:::recipe/aws-user-personalization</td>\n",
       "    </tr>\n",
       "  </tbody>\n",
       "</table>\n",
       "</div>"
      ],
      "text/plain": [
       "                       name  \\\n",
       "0                  aws-hrnn   \n",
       "1        aws-hrnn-coldstart   \n",
       "2         aws-hrnn-metadata   \n",
       "3  aws-personalized-ranking   \n",
       "4      aws-popularity-count   \n",
       "5                  aws-sims   \n",
       "6  aws-user-personalization   \n",
       "\n",
       "                                               recipeArn  \n",
       "0                  arn:aws:personalize:::recipe/aws-hrnn  \n",
       "1        arn:aws:personalize:::recipe/aws-hrnn-coldstart  \n",
       "2         arn:aws:personalize:::recipe/aws-hrnn-metadata  \n",
       "3  arn:aws:personalize:::recipe/aws-personalized-ranking  \n",
       "4      arn:aws:personalize:::recipe/aws-popularity-count  \n",
       "5                  arn:aws:personalize:::recipe/aws-sims  \n",
       "6  arn:aws:personalize:::recipe/aws-user-personalization  "
      ]
     },
     "execution_count": 17,
     "metadata": {},
     "output_type": "execute_result"
    }
   ],
   "source": [
    "recipes_df = pd.DataFrame(recipes)\n",
    "recipes_df[['name','recipeArn']]"
   ]
  },
  {
   "cell_type": "markdown",
   "metadata": {},
   "source": [
    "### User Personalization\n",
    "La receta de personalización de usuario está optimizada para todos los escenarios de recomendación de USER_PERSONALIZATION. Al recomendar elementos, utiliza la exploración automática de elementos.\n",
    "\n",
    "Con la exploración automática, Amazon Personalize prueba automáticamente diferentes recomendaciones de artículos, aprende de cómo los usuarios interactúan con estos artículos recomendados y aumenta las recomendaciones de artículos que generan una mejor participación y conversión. Esto mejora el descubrimiento y la participación de los artículos cuando tiene un catálogo que cambia rápidamente o cuando los artículos nuevos, como artículos de noticias o promociones, son más relevantes para los usuarios cuando están frescos.\n",
    "\n",
    "Puede equilibrar cuánto explorar (donde los elementos con menos interacciones, datos o relevancia se recomiendan con más frecuencia) con cuánto explotar (donde las recomendaciones se basan en lo que sabemos o en la relevancia). Amazon Personalize ajusta automáticamente las recomendaciones futuras en función de los comentarios implícitos de los usuarios.\n",
    "\n",
    "Primero, seleccione la receta buscando el ARN en la lista de recetas anterior."
   ]
  },
  {
   "cell_type": "code",
   "execution_count": 18,
   "metadata": {},
   "outputs": [],
   "source": [
    "user_personalization_recipe_arn = 'arn:aws:personalize:::recipe/aws-user-personalization'"
   ]
  },
  {
   "cell_type": "markdown",
   "metadata": {},
   "source": [
    "#### Crear la solución\n",
    "\n",
    "La solución hace referencia a la combinación de una receta de Amazon Personalize (https://aws.amazon.com/es/personalize/), parámetros personalizados y una o más versiones de la solución.\n",
    "\n",
    "Una vez creada la Version Solution, la solución con mejor desempeño, creas la campaña y obtienes las recomendaciones."
   ]
  },
  {
   "cell_type": "code",
   "execution_count": null,
   "metadata": {},
   "outputs": [],
   "source": [
    "user_personalization_create_solution_response = personalize.create_solution(\n",
    "    name = \"personalize-anime-userpersonalization\",\n",
    "    datasetGroupArn = dataset_group_arn,\n",
    "    recipeArn = user_personalization_recipe_arn\n",
    ")\n",
    "\n",
    "user_personalization_solution_arn = user_personalization_create_solution_response['solutionArn']\n",
    "print(json.dumps(user_personalization_solution_arn, indent=2))"
   ]
  },
  {
   "cell_type": "markdown",
   "metadata": {},
   "source": [
    "#### Create the solution version\n",
    "\n",
    "Una vez que tenga una solución, debe crear una versión para completar el entrenamiento del modelo. La capacitación puede tardar un tiempo en completarse, más de 25 minutos y un promedio de 90 minutos para esta receta con nuestro conjunto de datos. Normalmente, usaríamos un ciclo while para sondear hasta que se complete la tarea. Sin embargo, la tarea bloquearía la ejecución de otras celdas, y el objetivo aquí es crear muchos modelos e implementarlos rápidamente. Así que configuraremos el ciclo while para todas las soluciones más abajo en el cuaderno. Allí también encontrará instrucciones para ver el progreso en la consola de AWS."
   ]
  },
  {
   "cell_type": "code",
   "execution_count": null,
   "metadata": {},
   "outputs": [],
   "source": [
    "userpersonalization_create_solution_version_response = personalize.create_solution_version(\n",
    "    solutionArn = user_personalization_solution_arn\n",
    ")\n",
    "userpersonalization_solution_version_arn = userpersonalization_create_solution_version_response['solutionVersionArn']\n",
    "print(json.dumps(user_personalization_create_solution_response, indent=2))"
   ]
  },
  {
   "cell_type": "markdown",
   "metadata": {},
   "source": [
    "### SIMS\n",
    "\n",
    "\n",
    "SIMS es uno de los algoritmos más antiguos utilizados en Amazon para los sistemas de recomendación. Un caso de uso central es cuando tiene un elemento y desea recomendar elementos con los que se ha interactuado de manera similar en toda su base de usuarios. Esto significa que el resultado no es personalizado por usuario. A veces, esto lleva a recomendar artículos en su mayoría populares, por lo que hay un hiperparámetro que se puede ajustar y reducirá los artículos populares en los resultados.\n",
    "\n",
    "Para nuestro caso de uso, utilizando los datos de Animes, supongamos que elegimos un Anime en particular. Luego podemos usar SIMS para recomendar otros anime en función del comportamiento de interacción de toda la base de usuarios. Los resultados no son personalizados por usuario, sino que difieren según el anime que elegimos como entrada.\n",
    "\n",
    "Al igual que la última vez, comenzamos seleccionando la receta."
   ]
  },
  {
   "cell_type": "markdown",
   "metadata": {},
   "source": [
    "#### Crear la solución\n",
    "\n",
    "Al igual que con HRNN, comience creando primero la solución. Aunque proporcione el ARN del conjunto de datos en este paso, el modelo aún no está entrenado. Vea esto como un identificador en lugar de un modelo entrenado."
   ]
  },
  {
   "cell_type": "code",
   "execution_count": 21,
   "metadata": {},
   "outputs": [],
   "source": [
    "SIMS_recipe_arn = \"arn:aws:personalize:::recipe/aws-sims\""
   ]
  },
  {
   "cell_type": "code",
   "execution_count": null,
   "metadata": {},
   "outputs": [],
   "source": [
    "sims_create_solution_response = personalize.create_solution(\n",
    "    name = \"personalize-anime-sims\",\n",
    "    datasetGroupArn = dataset_group_arn,\n",
    "    recipeArn = SIMS_recipe_arn\n",
    ")\n",
    "\n",
    "sims_solution_arn = sims_create_solution_response['solutionArn']\n",
    "print(json.dumps(sims_create_solution_response, indent=2))"
   ]
  },
  {
   "cell_type": "markdown",
   "metadata": {},
   "source": [
    "#### Crear la version de la solución"
   ]
  },
  {
   "cell_type": "code",
   "execution_count": null,
   "metadata": {},
   "outputs": [],
   "source": [
    "sims_create_solution_version_response = personalize.create_solution_version(\n",
    "    solutionArn = sims_solution_arn\n",
    ")\n",
    "\n",
    "sims_solution_version_arn = sims_create_solution_version_response['solutionVersionArn']\n",
    "print(json.dumps(sims_create_solution_version_response, indent=2))"
   ]
  },
  {
   "cell_type": "markdown",
   "metadata": {},
   "source": [
    "### Personalized Ranking\n",
    "\n",
    "En lugar de simplemente recomendar lo que es más probable para el usuario en cuestión, este algoritmo también incluye un usuario y una lista de elementos que se representan en el orden de relevancia más probable para el usuario. El caso de uso aquí es para filtrar en categorías únicas en las que no tiene metadatos de elementos para crear un filtro, o cuando tiene una colección amplia que le gustaría ordenar mejor para un usuario en particular.\n"
   ]
  },
  {
   "cell_type": "code",
   "execution_count": 24,
   "metadata": {},
   "outputs": [],
   "source": [
    "rerank_recipe_arn = \"arn:aws:personalize:::recipe/aws-personalized-ranking\""
   ]
  },
  {
   "cell_type": "code",
   "execution_count": null,
   "metadata": {},
   "outputs": [],
   "source": [
    "rerank_create_solution_response = personalize.create_solution(\n",
    "    name = \"personalize-anime-rerank\",\n",
    "    datasetGroupArn = dataset_group_arn,\n",
    "    recipeArn = rerank_recipe_arn\n",
    ")\n",
    "\n",
    "rerank_solution_arn = rerank_create_solution_response['solutionArn']\n",
    "print(json.dumps(rerank_create_solution_response, indent=2))"
   ]
  },
  {
   "cell_type": "code",
   "execution_count": null,
   "metadata": {},
   "outputs": [],
   "source": [
    "rerank_create_solution_version_response = personalize.create_solution_version(\n",
    "    solutionArn = rerank_solution_arn\n",
    ")\n",
    "rerank_solution_version_arn = rerank_create_solution_version_response['solutionVersionArn']\n",
    "print(json.dumps(rerank_create_solution_version_response, indent=2))"
   ]
  },
  {
   "cell_type": "markdown",
   "metadata": {},
   "source": [
    "### Ver el estado de la solucion en la consola: \n",
    "\n",
    "* Busca en la consola \"Amazon Personalize\"\n",
    "* Haga clic en `Dataset gorups`.\n",
    "* Haga clic en el nombre de su grupo de conjuntos de datos, probablemente algo con POC en el nombre.\n",
    "* Haga clic en `Soluciones y recetas`.\n",
    "* Ahora verá una lista de todas las soluciones que creó anteriormente, incluida una columna con el estado de las versiones de la solución. Una vez que está `Activo`, su solución está lista para ser revisada. También es capaz de ser desplegado.\n",
    "\n",
    "O simplemente ejecuta la celda a continuación para realizar un seguimiento del estado de creación de la versión de la solución."
   ]
  },
  {
   "cell_type": "code",
   "execution_count": null,
   "metadata": {},
   "outputs": [],
   "source": [
    "in_progress_solution_versions = [\n",
    "    userpersonalization_solution_version_arn,\n",
    "    sims_solution_version_arn,\n",
    "    rerank_solution_version_arn\n",
    "]\n",
    "\n",
    "max_time = time.time() + 10*60*60 # 10 hours\n",
    "while time.time() < max_time:\n",
    "    for solution_version_arn in in_progress_solution_versions:\n",
    "        version_response = personalize.describe_solution_version(\n",
    "            solutionVersionArn = solution_version_arn\n",
    "        )\n",
    "        status = version_response[\"solutionVersion\"][\"status\"]\n",
    "        \n",
    "        if status == \"ACTIVE\":\n",
    "            print(\"Build succeeded for {}\".format(solution_version_arn))\n",
    "            in_progress_solution_versions.remove(solution_version_arn)\n",
    "        elif status == \"CREATE FAILED\":\n",
    "            print(\"Build failed for {}\".format(solution_version_arn))\n",
    "            in_progress_solution_versions.remove(solution_version_arn)\n",
    "    \n",
    "    if len(in_progress_solution_versions) <= 0:\n",
    "        break\n",
    "    else:\n",
    "        print(\"At least one solution build is still in progress\")\n",
    "        \n",
    "    time.sleep(60)"
   ]
  },
  {
   "cell_type": "markdown",
   "metadata": {},
   "source": [
    "## Evaluate solution versions <a class=\"anchor\" id=\"eval\"></a>\n",
    "[Back to top](#top)\n",
    "\n",
    "No debería tomar más de una hora entrenar todas las soluciones de este cuaderno. Mientras el entrenamiento está en progreso, recomendamos tomarse el tiempo para leer en detalle los diversos algoritmos (recetas) y su comportamiento. Este también es un buen momento para considerar alternativas sobre cómo se ingresaron los datos en el sistema y qué tipo de resultados espera ver.\n",
    "\n",
    "\n",
    "Recomendamos leer la siguiene documentación [the documentation](https://docs.aws.amazon.com/personalize/latest/dg/working-with-training-metrics.html) para entender las metricas. \n",
    "\n",
    "Aca un breve resumen: \n",
    "\n",
    "* *Relevant recommendation* se refiere a una recomendación que coincide con un valor en los datos de prueba para el usuario en particular.\n",
    "* *Rank* se refiere a la posición de un elemento recomendado en la lista de recomendaciones. Se supone que la posición 1 (la parte superior de la lista) es la más relevante para el usuario.\n",
    "* *Query* hace referencia al equivalente interno de una llamada GetRecommendations.\n",
    "\n",
    "Las metricas entregadas por Personalize son: \n",
    "\n",
    "* **coverage**: Es el porcentaje de los items que el modelo está recomendando en general (incluye ambos datasets Items y interacciones). Es decir por ejemplo en SIMS, tiene un coverage de 45% es decir hay un 55% de items que no están siendo recomendados.\n",
    "* **mean_reciprocal_rank_at_25**: El [mean of the reciprocal ranks](https://en.wikipedia.org/wiki/Mean_reciprocal_rank)es la primera recomendación relevante de las 25 recomendaciones principales sobre todas las consultas. Esta métrica es apropiada si está interesado en la recomendación individual mejor calificada.\n",
    "* **normalized_discounted_cumulative_gain_at_K**: La ganancia descontada asume que las recomendaciones más bajas en una lista de recomendaciones son menos relevantes que las recomendaciones más altas. Por lo tanto, cada recomendación se descuenta (se le da un peso menor) por un factor que depende de su posición. Para generar la [ganancia acumulada descontada](https://en.wikipedia.org/wiki/Discounted_cumulative_gain) (DCG) en K, se suma cada recomendación descontada relevante en las recomendaciones K principales. La ganancia acumulada descontada normalizada (NDCG, por sus siglas en inglés) es el DCG dividido por el DCG ideal, de modo que el NDCG está entre 0 y 1. (El DCG ideal es donde las K recomendaciones principales se ordenan por relevancia). Amazon Personalize utiliza un factor de ponderación de 1/. log(1 + posición), donde la parte superior de la lista es la posición 1. Esta métrica recompensa los elementos relevantes que aparecen cerca de la parte superior de la lista, porque la parte superior de una lista suele llamar más la atención.\n",
    "* **precision_at_K**: El número de recomendaciones relevantes de las K recomendaciones principales divididas por K. Esta métrica recompensa la recomendación precisa de los elementos relevantes.\n",
    "\n",
    "\n",
    "Veamos el resultado de la evaluación de nuestras versiones. "
   ]
  },
  {
   "cell_type": "code",
   "execution_count": null,
   "metadata": {},
   "outputs": [],
   "source": [
    "user_personalization_solution_metrics_response = personalize.get_solution_metrics(\n",
    "    solutionVersionArn = userpersonalization_solution_version_arn\n",
    ")['metrics']\n",
    "sims_solution_metrics_response = personalize.get_solution_metrics(\n",
    "    solutionVersionArn = sims_solution_version_arn\n",
    ")['metrics']\n",
    "\n",
    "rerank_solution_metrics_response = personalize.get_solution_metrics(\n",
    "    solutionVersionArn = rerank_solution_version_arn\n",
    ")['metrics']\n",
    "\n",
    "user_personalization_solution_metrics_response['solution'] = 'user personalization'\n",
    "sims_solution_metrics_response['solution'] = 'similar items'\n",
    "rerank_solution_metrics_response['solution'] = 're rank'\n"
   ]
  },
  {
   "cell_type": "code",
   "execution_count": 55,
   "metadata": {},
   "outputs": [
    {
     "data": {
      "text/html": [
       "<div>\n",
       "<style scoped>\n",
       "    .dataframe tbody tr th:only-of-type {\n",
       "        vertical-align: middle;\n",
       "    }\n",
       "\n",
       "    .dataframe tbody tr th {\n",
       "        vertical-align: top;\n",
       "    }\n",
       "\n",
       "    .dataframe thead th {\n",
       "        text-align: right;\n",
       "    }\n",
       "</style>\n",
       "<table border=\"1\" class=\"dataframe\">\n",
       "  <thead>\n",
       "    <tr style=\"text-align: right;\">\n",
       "      <th></th>\n",
       "      <th>coverage</th>\n",
       "      <th>MRR_25</th>\n",
       "      <th>NDCG_10</th>\n",
       "      <th>NDCG_15</th>\n",
       "      <th>NDCG_5</th>\n",
       "      <th>P_10</th>\n",
       "      <th>P_25</th>\n",
       "      <th>P_5</th>\n",
       "    </tr>\n",
       "    <tr>\n",
       "      <th>solution</th>\n",
       "      <th></th>\n",
       "      <th></th>\n",
       "      <th></th>\n",
       "      <th></th>\n",
       "      <th></th>\n",
       "      <th></th>\n",
       "      <th></th>\n",
       "      <th></th>\n",
       "    </tr>\n",
       "  </thead>\n",
       "  <tbody>\n",
       "    <tr>\n",
       "      <th>user personalization</th>\n",
       "      <td>0.1782</td>\n",
       "      <td>0.5750</td>\n",
       "      <td>0.4652</td>\n",
       "      <td>0.5642</td>\n",
       "      <td>0.4054</td>\n",
       "      <td>0.2049</td>\n",
       "      <td>0.1308</td>\n",
       "      <td>0.2770</td>\n",
       "    </tr>\n",
       "    <tr>\n",
       "      <th>similar items</th>\n",
       "      <td>0.4498</td>\n",
       "      <td>0.1822</td>\n",
       "      <td>0.1900</td>\n",
       "      <td>0.2580</td>\n",
       "      <td>0.1494</td>\n",
       "      <td>0.0535</td>\n",
       "      <td>0.0408</td>\n",
       "      <td>0.0644</td>\n",
       "    </tr>\n",
       "    <tr>\n",
       "      <th>re rank</th>\n",
       "      <td>0.1899</td>\n",
       "      <td>0.5837</td>\n",
       "      <td>0.4717</td>\n",
       "      <td>0.5708</td>\n",
       "      <td>0.4129</td>\n",
       "      <td>0.2079</td>\n",
       "      <td>0.1321</td>\n",
       "      <td>0.2820</td>\n",
       "    </tr>\n",
       "  </tbody>\n",
       "</table>\n",
       "</div>"
      ],
      "text/plain": [
       "                      coverage  MRR_25  NDCG_10  NDCG_15  NDCG_5    P_10  \\\n",
       "solution                                                                   \n",
       "user personalization    0.1782  0.5750   0.4652   0.5642  0.4054  0.2049   \n",
       "similar items           0.4498  0.1822   0.1900   0.2580  0.1494  0.0535   \n",
       "re rank                 0.1899  0.5837   0.4717   0.5708  0.4129  0.2079   \n",
       "\n",
       "                        P_25     P_5  \n",
       "solution                              \n",
       "user personalization  0.1308  0.2770  \n",
       "similar items         0.0408  0.0644  \n",
       "re rank               0.1321  0.2820  "
      ]
     },
     "execution_count": 55,
     "metadata": {},
     "output_type": "execute_result"
    }
   ],
   "source": [
    "import pandas as pd\n",
    "metrics_df = pd.DataFrame([user_personalization_solution_metrics_response, sims_solution_metrics_response,\n",
    "                           rerank_solution_metrics_response]).set_index('solution')\n",
    "\n",
    "metrics_df.rename(columns = {'mean_reciprocal_rank_at_25':'MRR_25', 'normalized_discounted_cumulative_gain_at_10':'NDCG_10', \n",
    "                             'normalized_discounted_cumulative_gain_at_25':'NDCG_15',\n",
    "                              'normalized_discounted_cumulative_gain_at_5':'NDCG_5', 'precision_at_10': 'P_10' , 'precision_at_25': 'P_25' ,\n",
    "                             'precision_at_5': 'P_5' }, inplace = True) \n",
    "metrics_df"
   ]
  },
  {
   "cell_type": "code",
   "execution_count": 28,
   "metadata": {},
   "outputs": [
    {
     "name": "stdout",
     "output_type": "stream",
     "text": [
      "Stored 'userpersonalization_solution_version_arn' (str)\n",
      "Stored 'sims_solution_version_arn' (str)\n",
      "Stored 'rerank_solution_version_arn' (str)\n",
      "Stored 'user_personalization_solution_arn' (str)\n",
      "Stored 'sims_solution_arn' (str)\n",
      "Stored 'rerank_solution_arn' (str)\n"
     ]
    }
   ],
   "source": [
    "%store userpersonalization_solution_version_arn\n",
    "%store sims_solution_version_arn\n",
    "%store rerank_solution_version_arn\n",
    "%store user_personalization_solution_arn\n",
    "%store sims_solution_arn\n",
    "%store rerank_solution_arn"
   ]
  },
  {
   "cell_type": "code",
   "execution_count": null,
   "metadata": {},
   "outputs": [],
   "source": [
    "%store"
   ]
  },
  {
   "cell_type": "code",
   "execution_count": null,
   "metadata": {},
   "outputs": [],
   "source": []
  }
 ],
 "metadata": {
  "kernelspec": {
   "display_name": "Python 3.9.6 64-bit",
   "language": "python",
   "name": "python3"
  },
  "language_info": {
   "codemirror_mode": {
    "name": "ipython",
    "version": 3
   },
   "file_extension": ".py",
   "mimetype": "text/x-python",
   "name": "python",
   "nbconvert_exporter": "python",
   "pygments_lexer": "ipython3",
   "version": "3.9.6"
  },
  "vscode": {
   "interpreter": {
    "hash": "31f2aee4e71d21fbe5cf8b01ff0e069b9275f58929596ceb00d14d90e3e16cd6"
   }
  }
 },
 "nbformat": 4,
 "nbformat_minor": 4
}
