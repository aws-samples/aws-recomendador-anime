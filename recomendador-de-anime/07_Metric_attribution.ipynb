{
 "cells": [
  {
   "attachments": {},
   "cell_type": "markdown",
   "metadata": {},
   "source": [
    "# Metric Attribution \n",
    "Más información: https://docs.aws.amazon.com/personalize/latest/dg/measuring-recommendation-impact.html"
   ]
  },
  {
   "cell_type": "code",
   "execution_count": null,
   "metadata": {},
   "outputs": [],
   "source": [
    "import boto3\n",
    "import json\n",
    "import pandas as pd\n",
    "import datetime"
   ]
  },
  {
   "cell_type": "code",
   "execution_count": null,
   "metadata": {},
   "outputs": [],
   "source": [
    "# Configure the SDK to Personalize:\n",
    "personalize = boto3.client('personalize')\n",
    "personalize_runtime = boto3.client('personalize-runtime')\n",
    "personalize_events = boto3.client('personalize-events')"
   ]
  },
  {
   "cell_type": "code",
   "execution_count": null,
   "metadata": {},
   "outputs": [],
   "source": [
    "## Para encontrar el dataset group arn: \n",
    "df = pd.DataFrame(personalize.list_dataset_groups()['datasetGroups'])\n",
    "df"
   ]
  },
  {
   "cell_type": "code",
   "execution_count": null,
   "metadata": {},
   "outputs": [],
   "source": [
    "dataset_group_arn = dataset_group_arn\n",
    "path_to_bucket = path_to_bucket\n",
    "metric_attribution_name = metric_attribution_name\n",
    "role_arn = role_arn"
   ]
  },
  {
   "cell_type": "code",
   "execution_count": null,
   "metadata": {},
   "outputs": [],
   "source": [
    "metrics_list = [{\n",
    "        \"eventType\": \"RATING\",\n",
    "        \"expression\": \"SAMPLECOUNT()\",\n",
    "        \"metricName\": \"count_RATING\"\n",
    "    },\n",
    "\n",
    "{\n",
    "        \"eventType\": \"CLICK\",\n",
    "        \"expression\": \"SAMPLECOUNT()\",\n",
    "        \"metricName\": \"count_CLICK\"\n",
    "    }]"
   ]
  },
  {
   "cell_type": "code",
   "execution_count": null,
   "metadata": {},
   "outputs": [],
   "source": [
    "output_config = {\n",
    "    \"roleArn\": role_arn,\n",
    "    \"s3DataDestination\": {\n",
    "    \"path\": path_to_bucket    \n",
    "    }\n",
    "}"
   ]
  },
  {
   "cell_type": "code",
   "execution_count": null,
   "metadata": {},
   "outputs": [],
   "source": [
    "response = personalize.create_metric_attribution(\n",
    "name = metric_attribution_name,\n",
    "datasetGroupArn = dataset_group_arn,\n",
    "metricsOutputConfig = output_config,\n",
    "metrics = metrics_list\n",
    ")\n",
    "metric_attribution_arn = response['metricAttributionArn']"
   ]
  },
  {
   "attachments": {},
   "cell_type": "markdown",
   "metadata": {},
   "source": [
    "# Enviar eventos manualmente"
   ]
  },
  {
   "cell_type": "code",
   "execution_count": null,
   "metadata": {},
   "outputs": [],
   "source": [
    "session_dict = {}\n",
    "import uuid\n",
    "\n",
    "def rate_anime(USER_ID, ITEM_ID,EVENT_VALUE, EVENT_TYPE ):\n",
    "    \"\"\"\n",
    "    Simula una calificación\n",
    "    para enviarla a Amazon personalize como un evento. \n",
    "    \"\"\"\n",
    "    # Configure Session\n",
    "    try:\n",
    "        session_ID = session_dict[str(USER_ID)]\n",
    "    except:\n",
    "        session_dict[str(USER_ID)] = str(uuid.uuid1())\n",
    "        session_ID = session_dict[str(USER_ID)]\n",
    "        \n",
    "    # Configure Properties:\n",
    "    event = {\n",
    "    \"itemId\": str(ITEM_ID),\n",
    "    }\n",
    "    event_json = json.dumps(event)\n",
    "        \n",
    "    # Hace la llamada\n",
    "    \n",
    "    personalize_events.put_events(\n",
    "    trackingId = TRACKING_ID,\n",
    "    userId= str(USER_ID),\n",
    "    sessionId = session_ID,\n",
    "    eventList = [{\n",
    "        'sentAt': int(time.time()),\n",
    "        'eventType': str(EVENT_TYPE),\n",
    "        'eventValue': int(EVENT_VALUE),\n",
    "        'properties': event_json,\n",
    "        'metricAttribution': {\"eventAttributionSource\": \"anime\"},\n",
    "        }]\n",
    "    )"
   ]
  },
  {
   "cell_type": "code",
   "execution_count": null,
   "metadata": {},
   "outputs": [],
   "source": [
    "TRACKING_ID = TRACKING_ID\n",
    "USER_ID = USER_ID\n",
    "ITEM_ID = ITEM_ID\n",
    "EVENT_VALUE = INT \n",
    "EVENT_TYPE = 'RATING'|\"CLICK\"|\"WATCH\"\n",
    "rate_anime(USER_ID, ITEM_ID,EVENT_VALUE, EVENT_TYPE)"
   ]
  }
 ],
 "metadata": {
  "kernelspec": {
   "display_name": "Python 3",
   "language": "python",
   "name": "python3"
  },
  "language_info": {
   "name": "python",
   "version": "3.-1.-1"
  },
  "orig_nbformat": 4,
  "vscode": {
   "interpreter": {
    "hash": "31f2aee4e71d21fbe5cf8b01ff0e069b9275f58929596ceb00d14d90e3e16cd6"
   }
  }
 },
 "nbformat": 4,
 "nbformat_minor": 2
}
