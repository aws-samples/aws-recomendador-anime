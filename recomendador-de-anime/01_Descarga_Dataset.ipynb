{
 "cells": [
  {
   "cell_type": "markdown",
   "metadata": {},
   "source": [
    "## Descargar Dataset \n",
    "\n",
    "https://www.kaggle.com/hernan4444/anime-recommendation-database-2020\n",
    "\n",
    "Para una guía de como hacer una descarga de datasets de kaggle:\n",
    "\n",
    "https://github.com/Kaggle/kaggle-api#download-dataset-files\n",
    "\n",
    "https://www.ankushchoubey.com/download_kaggle/"
   ]
  },
  {
   "cell_type": "code",
   "execution_count": 2,
   "metadata": {},
   "outputs": [],
   "source": [
    "#!pip3 install kaggle"
   ]
  },
  {
   "cell_type": "code",
   "execution_count": 1,
   "metadata": {},
   "outputs": [
    {
     "name": "stdout",
     "output_type": "stream",
     "text": [
      "usage: kaggle [-h] [-v] {competitions,c,datasets,d,kernels,k,config} ...\n",
      "kaggle: error: the following arguments are required: command\n"
     ]
    }
   ],
   "source": [
    "!kaggle"
   ]
  },
  {
   "cell_type": "code",
   "execution_count": 2,
   "metadata": {},
   "outputs": [
    {
     "name": "stdout",
     "output_type": "stream",
     "text": [
      "mkdir: cannot create directory ‘anime-data’: File exists\n",
      "Downloading anime-recommendation-database-2020.zip to anime-data\n",
      " 98%|████████████████████████████████████████▏| 647M/661M [00:06<00:00, 154MB/s]\n",
      "100%|████████████████████████████████████████| 661M/661M [00:09<00:00, 73.2MB/s]\n"
     ]
    }
   ],
   "source": [
    "data_dir = \"anime-data\"\n",
    "dataset_name =  \"hernan4444/anime-recommendation-database-2020\"\n",
    "!mkdir $data_dir\n",
    "!kaggle datasets download -p {data_dir}/ --unzip {dataset_name}"
   ]
  },
  {
   "cell_type": "code",
   "execution_count": null,
   "metadata": {},
   "outputs": [],
   "source": []
  }
 ],
 "metadata": {
  "instance_type": "ml.t3.medium",
  "kernelspec": {
   "display_name": "Python 3.9.6 64-bit",
   "language": "python",
   "name": "python3"
  },
  "language_info": {
   "codemirror_mode": {
    "name": "ipython",
    "version": 3
   },
   "file_extension": ".py",
   "mimetype": "text/x-python",
   "name": "python",
   "nbconvert_exporter": "python",
   "pygments_lexer": "ipython3",
   "version": "3.9.6"
  },
  "vscode": {
   "interpreter": {
    "hash": "31f2aee4e71d21fbe5cf8b01ff0e069b9275f58929596ceb00d14d90e3e16cd6"
   }
  }
 },
 "nbformat": 4,
 "nbformat_minor": 4
}
